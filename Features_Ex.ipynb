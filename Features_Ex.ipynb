{
 "cells": [
  {
   "cell_type": "code",
   "execution_count": null,
   "metadata": {},
   "outputs": [],
   "source": [
    "class ColorHistogramExtractor:\n",
    "    def __init__(self, bins=(8, 8, 8)):\n",
    "        self.bins = bins\n",
    "    \n",
    "    def extract(self, image):\n",
    "        \"\"\"Extract color histograms in LAB, HSV, and BGR color spaces.\"\"\"\n",
    "        hist_lab = self._compute_histogram(cv2.cvtColor(image, cv2.COLOR_BGR2LAB))\n",
    "        hist_hsv = self._compute_histogram(cv2.cvtColor(image, cv2.COLOR_BGR2HSV))\n",
    "        hist_bgr = self._compute_histogram(image)\n",
    "        \n",
    "        return np.hstack([hist_lab, hist_hsv, hist_bgr])\n",
    "    \n",
    "    def _compute_histogram(self, image):\n",
    "        \"\"\"Compute and normalize a color histogram.\"\"\"\n",
    "        hist = cv2.calcHist([image], [0, 1, 2], None, self.bins, [0, 256, 0, 256, 0, 256])\n",
    "        cv2.normalize(hist, hist)\n",
    "        return hist.flatten()\n",
    "    \n",
    "    def save_features(self, features, filename):\n",
    "        \"\"\"Save extracted features to a file.\"\"\"\n",
    "        np.save(filename, features)\n",
    "    \n",
    "    def load_features(self, filename):\n",
    "        \"\"\"Load features from a file.\"\"\"\n",
    "        return np.load(filename)\n",
    "\n",
    "# Example usage:\n",
    "# extractor = ColorHistogramExtractor()\n",
    "# features = extractor.extract(cv2.imread(\"image.jpg\"))\n",
    "# extractor.save_features(features, \"features.npy\")\n"
   ]
  }
 ],
 "metadata": {
  "language_info": {
   "name": "python"
  }
 },
 "nbformat": 4,
 "nbformat_minor": 2
}
