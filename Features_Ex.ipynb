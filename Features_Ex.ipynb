{
 "cells": [
  {
   "cell_type": "code",
   "execution_count": null,
   "metadata": {},
   "outputs": [],
   "source": [
    "class ColorHistogramExtractor:    \n",
    "    def extract_color_histogram(image, bins=(x, y, z)):\n",
    "        hist_lab = cv2.calcHist([cv2.cvtColor(image, cv2.COLOR_BGR2LAB)], [0, 1, 2], None, bins, [0, 256, 0, 256, 0, 256])\n",
    "        hist_hsv = cv2.calcHist([cv2.cvtColor(image, cv2.COLOR_BGR2HSV)], [0, 1, 2], None, bins, [0, 256, 0, 256, 0, 256])\n",
    "        hist_bgr = cv2.calcHist([image], [0, 1, 2], None, bins, [0, 256, 0, 256, 0, 256])\n",
    "        \n",
    "        cv2.normalize(hist_lab, hist_lab)\n",
    "        cv2.normalize(hist_hsv, hist_hsv)\n",
    "        cv2.normalize(hist_bgr, hist_bgr)\n",
    "        \n",
    "        return np.hstack([hist_lab.flatten(), hist_hsv.flatten(), hist_bgr.flatten()])\n",
    "    \n",
    "    def extract_contour_features(image):\n",
    "        gray = cv2.cvtColor(image, cv2.COLOR_BGR2GRAY)\n",
    "        _, binary = cv2.threshold(gray, 128, 255, cv2.THRESH_BINARY)\n",
    "        contours, _ = cv2.findContours(binary, cv2.RETR_EXTERNAL, cv2.CHAIN_APPROX_SIMPLE)\n",
    "        \n",
    "        if not contours:\n",
    "            return np.zeros(3, dtype=np.float32), image  # Trả về ảnh gốc nếu không có contour\n",
    "        \n",
    "        contours = sorted(contours, key=cv2.contourArea, reverse=True)[:5]  # Giữ lại tối đa 5 contour lớn nhất\n",
    "        mask = np.zeros_like(gray)\n",
    "        cv2.drawContours(mask, contours, -1, 255, thickness=cv2.FILLED)\n",
    "        segmented_image = cv2.bitwise_and(image, image, mask=mask)\n",
    "        \n",
    "        areas = [cv2.contourArea(c) for c in contours]\n",
    "        perimeters = [cv2.arcLength(c, True) for c in contours]\n",
    "        \n",
    "        return np.array([sum(areas), sum(perimeters), len(contours)], dtype=np.float32), segmented_image\n",
    "    \n",
    "    def extract_hu_moments(image):\n",
    "        gray = cv2.cvtColor(image, cv2.COLOR_BGR2GRAY)\n",
    "        moments = cv2.moments(gray)\n",
    "        hu_moments = cv2.HuMoments(moments).flatten()\n",
    "        return -np.sign(hu_moments) * np.log10(np.abs(hu_moments) + 1e-10)\n"
   ]
  }
 ],
 "metadata": {
  "language_info": {
   "name": "python"
  }
 },
 "nbformat": 4,
 "nbformat_minor": 2
}
